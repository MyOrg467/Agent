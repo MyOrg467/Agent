{
 "cells": [
  {
   "cell_type": "markdown",
   "id": "inner-carroll",
   "metadata": {},
   "source": [
    "# List Functions"
   ]
  },
  {
   "cell_type": "markdown",
   "id": "ranging-enlargement",
   "metadata": {},
   "source": [
    "## Delete item from list"
   ]
  },
  {
   "cell_type": "markdown",
   "id": "million-bacteria",
   "metadata": {},
   "source": [
    "### 1. pop()"
   ]
  },
  {
   "cell_type": "raw",
   "id": "worldwide-asbestos",
   "metadata": {},
   "source": [
    "It removes the item at sepcified location(index)\n",
    "default is -1\n",
    "Update the list "
   ]
  },
  {
   "cell_type": "code",
   "execution_count": 1,
   "id": "domestic-thumbnail",
   "metadata": {},
   "outputs": [
    {
     "data": {
      "text/plain": [
       "3"
      ]
     },
     "execution_count": 1,
     "metadata": {},
     "output_type": "execute_result"
    }
   ],
   "source": [
    "a = [3,4,5,6,'a','b',7,2,3]\n",
    "a.pop()"
   ]
  },
  {
   "cell_type": "code",
   "execution_count": 9,
   "id": "distinct-filename",
   "metadata": {},
   "outputs": [
    {
     "data": {
      "text/plain": [
       "4"
      ]
     },
     "execution_count": 9,
     "metadata": {},
     "output_type": "execute_result"
    }
   ],
   "source": [
    "a.pop()"
   ]
  },
  {
   "cell_type": "code",
   "execution_count": 1,
   "id": "confidential-teaching",
   "metadata": {},
   "outputs": [
    {
     "data": {
      "text/plain": [
       "'a'"
      ]
     },
     "execution_count": 1,
     "metadata": {},
     "output_type": "execute_result"
    }
   ],
   "source": [
    "a = [3,4,5,6,'a','b',7,2,3]\n",
    "a.pop(4)"
   ]
  },
  {
   "cell_type": "markdown",
   "id": "democratic-philip",
   "metadata": {},
   "source": [
    "### 2. remove()"
   ]
  },
  {
   "cell_type": "raw",
   "id": "comic-spider",
   "metadata": {},
   "source": [
    "It removes the item\n",
    "Removes first occurence"
   ]
  },
  {
   "cell_type": "code",
   "execution_count": 17,
   "id": "protective-thinking",
   "metadata": {},
   "outputs": [],
   "source": [
    "a = [3,4,5,6,'a','b',7,2,3]\n",
    "a.remove('a')"
   ]
  },
  {
   "cell_type": "code",
   "execution_count": 19,
   "id": "oriented-medication",
   "metadata": {},
   "outputs": [
    {
     "data": {
      "text/plain": [
       "[3, 4, 5, 6, 'b', 7, 2, 3]"
      ]
     },
     "execution_count": 19,
     "metadata": {},
     "output_type": "execute_result"
    }
   ],
   "source": [
    "a"
   ]
  },
  {
   "cell_type": "code",
   "execution_count": 20,
   "id": "vanilla-emperor",
   "metadata": {},
   "outputs": [],
   "source": [
    "a = [3,4,5,6,'a','b',7,2,5,5,3]\n",
    "a.remove(5)"
   ]
  },
  {
   "cell_type": "code",
   "execution_count": 21,
   "id": "warming-planner",
   "metadata": {},
   "outputs": [
    {
     "data": {
      "text/plain": [
       "[3, 4, 6, 'a', 'b', 7, 2, 5, 5, 3]"
      ]
     },
     "execution_count": 21,
     "metadata": {},
     "output_type": "execute_result"
    }
   ],
   "source": [
    "a"
   ]
  },
  {
   "cell_type": "markdown",
   "id": "infectious-halloween",
   "metadata": {},
   "source": [
    "### 3. del"
   ]
  },
  {
   "cell_type": "code",
   "execution_count": 2,
   "id": "soviet-colleague",
   "metadata": {},
   "outputs": [
    {
     "data": {
      "text/plain": [
       "[3, 4, 6, 'a', 'b', 7, 2, 3]"
      ]
     },
     "execution_count": 2,
     "metadata": {},
     "output_type": "execute_result"
    }
   ],
   "source": [
    "a = [3,4,5,6,'a','b',7,2,3]\n",
    "del a[2]\n",
    "a"
   ]
  },
  {
   "cell_type": "code",
   "execution_count": 25,
   "id": "native-sacramento",
   "metadata": {},
   "outputs": [
    {
     "ename": "NameError",
     "evalue": "name 'a' is not defined",
     "output_type": "error",
     "traceback": [
      "\u001b[1;31m---------------------------------------------------------------------------\u001b[0m",
      "\u001b[1;31mNameError\u001b[0m                                 Traceback (most recent call last)",
      "\u001b[1;32m<ipython-input-25-108583fd1d8a>\u001b[0m in \u001b[0;36m<module>\u001b[1;34m\u001b[0m\n\u001b[0;32m      1\u001b[0m \u001b[0ma\u001b[0m \u001b[1;33m=\u001b[0m \u001b[1;33m[\u001b[0m\u001b[1;36m3\u001b[0m\u001b[1;33m,\u001b[0m\u001b[1;36m4\u001b[0m\u001b[1;33m,\u001b[0m\u001b[1;36m5\u001b[0m\u001b[1;33m,\u001b[0m\u001b[1;36m6\u001b[0m\u001b[1;33m,\u001b[0m\u001b[1;34m'a'\u001b[0m\u001b[1;33m,\u001b[0m\u001b[1;34m'b'\u001b[0m\u001b[1;33m,\u001b[0m\u001b[1;36m7\u001b[0m\u001b[1;33m,\u001b[0m\u001b[1;36m2\u001b[0m\u001b[1;33m,\u001b[0m\u001b[1;36m3\u001b[0m\u001b[1;33m]\u001b[0m\u001b[1;33m\u001b[0m\u001b[1;33m\u001b[0m\u001b[0m\n\u001b[0;32m      2\u001b[0m \u001b[1;32mdel\u001b[0m \u001b[0ma\u001b[0m\u001b[1;33m\u001b[0m\u001b[1;33m\u001b[0m\u001b[0m\n\u001b[1;32m----> 3\u001b[1;33m \u001b[0mprint\u001b[0m\u001b[1;33m(\u001b[0m\u001b[0ma\u001b[0m\u001b[1;33m)\u001b[0m\u001b[1;33m\u001b[0m\u001b[1;33m\u001b[0m\u001b[0m\n\u001b[0m",
      "\u001b[1;31mNameError\u001b[0m: name 'a' is not defined"
     ]
    }
   ],
   "source": [
    "a = [3,4,5,6,'a','b',7,2,3]\n",
    "del a\n",
    "print(a)"
   ]
  },
  {
   "cell_type": "markdown",
   "id": "prime-territory",
   "metadata": {},
   "source": [
    "## Copy Function"
   ]
  },
  {
   "cell_type": "code",
   "execution_count": 34,
   "id": "material-postage",
   "metadata": {},
   "outputs": [],
   "source": [
    "a = [3,4,5,6,6,7,8,9]\n",
    "b = a"
   ]
  },
  {
   "cell_type": "code",
   "execution_count": 35,
   "id": "aquatic-imperial",
   "metadata": {},
   "outputs": [
    {
     "data": {
      "text/plain": [
       "[3, 4, 5, 6, 6, 7, 8, 9]"
      ]
     },
     "execution_count": 35,
     "metadata": {},
     "output_type": "execute_result"
    }
   ],
   "source": [
    "b "
   ]
  },
  {
   "cell_type": "code",
   "execution_count": 36,
   "id": "remarkable-sympathy",
   "metadata": {},
   "outputs": [
    {
     "data": {
      "text/plain": [
       "[3, 4, 5, 6, 6, 7, 8, 9]"
      ]
     },
     "execution_count": 36,
     "metadata": {},
     "output_type": "execute_result"
    }
   ],
   "source": [
    "a "
   ]
  },
  {
   "cell_type": "code",
   "execution_count": 37,
   "id": "united-alcohol",
   "metadata": {},
   "outputs": [
    {
     "data": {
      "text/plain": [
       "[3, 4, 5, 6, 6, 7, 8, 9, 10000]"
      ]
     },
     "execution_count": 37,
     "metadata": {},
     "output_type": "execute_result"
    }
   ],
   "source": [
    "b.append(10000)\n",
    "b"
   ]
  },
  {
   "cell_type": "code",
   "execution_count": 38,
   "id": "animal-smart",
   "metadata": {},
   "outputs": [
    {
     "data": {
      "text/plain": [
       "[3, 4, 5, 6, 6, 7, 8, 9, 10000]"
      ]
     },
     "execution_count": 38,
     "metadata": {},
     "output_type": "execute_result"
    }
   ],
   "source": [
    "a"
   ]
  },
  {
   "cell_type": "code",
   "execution_count": 41,
   "id": "after-mountain",
   "metadata": {},
   "outputs": [],
   "source": [
    "a = [3,4,5,6,6,7,8,9]\n",
    "new_list = a.copy() # shallow copy"
   ]
  },
  {
   "cell_type": "code",
   "execution_count": 42,
   "id": "cheap-computer",
   "metadata": {},
   "outputs": [
    {
     "data": {
      "text/plain": [
       "[3, 4, 5, 6, 6, 7, 8, 9]"
      ]
     },
     "execution_count": 42,
     "metadata": {},
     "output_type": "execute_result"
    }
   ],
   "source": [
    "new_list"
   ]
  },
  {
   "cell_type": "code",
   "execution_count": 51,
   "id": "vertical-banking",
   "metadata": {},
   "outputs": [
    {
     "data": {
      "text/plain": [
       "[3, 4, 5, 6, 6, 7, 8, 9, 20000, 20000, 20000]"
      ]
     },
     "execution_count": 51,
     "metadata": {},
     "output_type": "execute_result"
    }
   ],
   "source": [
    "new_list.append(20000)\n",
    "new_list"
   ]
  },
  {
   "cell_type": "code",
   "execution_count": 52,
   "id": "supreme-offset",
   "metadata": {},
   "outputs": [
    {
     "data": {
      "text/plain": [
       "[3, 4, 5, 6, 6, 7, 8, 9]"
      ]
     },
     "execution_count": 52,
     "metadata": {},
     "output_type": "execute_result"
    }
   ],
   "source": [
    "a"
   ]
  },
  {
   "cell_type": "code",
   "execution_count": 47,
   "id": "adjusted-swift",
   "metadata": {},
   "outputs": [],
   "source": [
    "# Deep Copy"
   ]
  },
  {
   "cell_type": "code",
   "execution_count": 50,
   "id": "stretch-netscape",
   "metadata": {},
   "outputs": [],
   "source": [
    "import copy # only deep copy\n",
    "import sklearn\n",
    "import os"
   ]
  },
  {
   "cell_type": "code",
   "execution_count": 54,
   "id": "terminal-liability",
   "metadata": {},
   "outputs": [
    {
     "name": "stdout",
     "output_type": "stream",
     "text": [
      "['mumbai', 'pune', 'delhi', 'Chennai']\n",
      "['mumbai', 'pune', 'delhi', 'Chennai']\n"
     ]
    }
   ],
   "source": [
    "a = ['mumbai','pune','delhi']\n",
    "b = a\n",
    "b.append('Chennai')\n",
    "print(b)\n",
    "print(a)"
   ]
  },
  {
   "cell_type": "code",
   "execution_count": 58,
   "id": "removed-bubble",
   "metadata": {},
   "outputs": [
    {
     "name": "stdout",
     "output_type": "stream",
     "text": [
      "['mumbai', 'pune', 'delhi', 'Chennai']\n",
      "['mumbai', 'delhi']\n"
     ]
    }
   ],
   "source": [
    "a1 = ['mumbai','pune','delhi']\n",
    "b1 = a1.copy()\n",
    "b1.append('Chennai')\n",
    "a1.remove('pune')\n",
    "print(b1)\n",
    "print(a1)"
   ]
  },
  {
   "cell_type": "markdown",
   "id": "alpine-channels",
   "metadata": {},
   "source": [
    "# Built in function for list"
   ]
  },
  {
   "cell_type": "code",
   "execution_count": 66,
   "id": "amazing-validation",
   "metadata": {},
   "outputs": [
    {
     "name": "stdout",
     "output_type": "stream",
     "text": [
      "Sum of list is  4\n",
      "Sum of list is  9\n",
      "Sum of list is  15\n",
      "Sum of list is  22\n",
      "Sum of list is  25\n"
     ]
    }
   ],
   "source": [
    "a = [4,5,6,7,3]\n",
    "\n",
    "sum1 = 0\n",
    "for i in a:\n",
    "    sum1 = sum1 + i # 0 + 4\n",
    "    print('Sum of list is ',sum1)"
   ]
  },
  {
   "cell_type": "code",
   "execution_count": 64,
   "id": "molecular-guard",
   "metadata": {},
   "outputs": [
    {
     "data": {
      "text/plain": [
       "25"
      ]
     },
     "execution_count": 64,
     "metadata": {},
     "output_type": "execute_result"
    }
   ],
   "source": [
    "sum(a)"
   ]
  },
  {
   "cell_type": "code",
   "execution_count": 68,
   "id": "final-binding",
   "metadata": {},
   "outputs": [
    {
     "data": {
      "text/plain": [
       "50"
      ]
     },
     "execution_count": 68,
     "metadata": {},
     "output_type": "execute_result"
    }
   ],
   "source": [
    "a = [4,50,6,7,3]\n",
    "max(a)"
   ]
  },
  {
   "cell_type": "code",
   "execution_count": 70,
   "id": "simplified-printing",
   "metadata": {},
   "outputs": [
    {
     "data": {
      "text/plain": [
       "3"
      ]
     },
     "execution_count": 70,
     "metadata": {},
     "output_type": "execute_result"
    }
   ],
   "source": [
    "a = [4,50,6,7,3]\n",
    "min(a)"
   ]
  },
  {
   "cell_type": "code",
   "execution_count": 73,
   "id": "civilian-diversity",
   "metadata": {},
   "outputs": [
    {
     "data": {
      "text/plain": [
       "5"
      ]
     },
     "execution_count": 73,
     "metadata": {},
     "output_type": "execute_result"
    }
   ],
   "source": [
    "len(a)"
   ]
  },
  {
   "cell_type": "code",
   "execution_count": 77,
   "id": "hindu-paintball",
   "metadata": {},
   "outputs": [
    {
     "name": "stdout",
     "output_type": "stream",
     "text": [
      "12\n",
      "Sum of list is  66\n"
     ]
    }
   ],
   "source": [
    "string = 'pythonclass'\n",
    "print(len(string))\n",
    "sum1 = 0\n",
    "for i in range(len(string)): # 0 to 11\n",
    "    sum1 = sum1 + i \n",
    "print('Sum of list is ',sum1)"
   ]
  },
  {
   "cell_type": "markdown",
   "id": "informational-distribution",
   "metadata": {},
   "source": [
    "# Nested list"
   ]
  },
  {
   "cell_type": "code",
   "execution_count": null,
   "id": "straight-meditation",
   "metadata": {},
   "outputs": [],
   "source": [
    "# list in list"
   ]
  },
  {
   "cell_type": "code",
   "execution_count": 83,
   "id": "negative-lightning",
   "metadata": {},
   "outputs": [],
   "source": [
    "l1 = [[2,3,4],[4,5,6],[5,6,7]]"
   ]
  },
  {
   "cell_type": "code",
   "execution_count": 91,
   "id": "focused-belief",
   "metadata": {},
   "outputs": [
    {
     "data": {
      "text/plain": [
       "6"
      ]
     },
     "execution_count": 91,
     "metadata": {},
     "output_type": "execute_result"
    }
   ],
   "source": [
    "l1[1][2]"
   ]
  },
  {
   "cell_type": "code",
   "execution_count": 92,
   "id": "devoted-allen",
   "metadata": {},
   "outputs": [],
   "source": [
    "## Nested list to normal list"
   ]
  },
  {
   "cell_type": "code",
   "execution_count": null,
   "id": "boolean-migration",
   "metadata": {},
   "outputs": [],
   "source": [
    "l1 = [[2,3,4],\n",
    "      [4,5,6],\n",
    "      [5,6,7]]\n",
    "\n",
    "l2 = [2,3,4,4,5,6,5,6,7]"
   ]
  },
  {
   "cell_type": "code",
   "execution_count": 4,
   "id": "phantom-macintosh",
   "metadata": {},
   "outputs": [
    {
     "name": "stdout",
     "output_type": "stream",
     "text": [
      "[1, 2, 3]\n",
      "[1, 2, 3, 4, 5, 6]\n",
      "[1, 2, 3, 4, 5, 6, 7, 8, 9]\n"
     ]
    },
    {
     "data": {
      "text/plain": [
       "[1, 2, 3, 4, 5, 6, 7, 8, 9]"
      ]
     },
     "execution_count": 4,
     "metadata": {},
     "output_type": "execute_result"
    }
   ],
   "source": [
    "l1 = [[1,2,3],[4,5,6],[7,8,9]]\n",
    "l2 = []\n",
    "for i_list in l1:\n",
    "    for num in i_list:\n",
    "        l2.append(num)\n",
    "    print(l2)\n",
    "l2"
   ]
  },
  {
   "cell_type": "code",
   "execution_count": null,
   "id": "important-burton",
   "metadata": {},
   "outputs": [],
   "source": [
    "l1 = [[1,2,3],[4,5,6],[7,8,9]]\n",
    "l2 = []\n",
    "for i_list in l1:\n",
    "    for num in i_list:\n",
    "        l2.append(num)\n",
    "    print(l2)\n",
    "l2"
   ]
  },
  {
   "cell_type": "code",
   "execution_count": 102,
   "id": "equal-canvas",
   "metadata": {},
   "outputs": [
    {
     "data": {
      "text/plain": [
       "['p', 'y', 't', 'h', 'o', 'n', 'c', 'l', 'a', 's', 's']"
      ]
     },
     "execution_count": 102,
     "metadata": {},
     "output_type": "execute_result"
    }
   ],
   "source": [
    "string = 'pythonclass'\n",
    "list(string)"
   ]
  },
  {
   "cell_type": "code",
   "execution_count": 164,
   "id": "heated-gender",
   "metadata": {},
   "outputs": [
    {
     "name": "stdout",
     "output_type": "stream",
     "text": [
      "['p']\n",
      "['p', 'y']\n",
      "['p', 'y', 't']\n",
      "['p', 'y', 't', 'h']\n",
      "['p', 'y', 't', 'h', 'o']\n",
      "['p', 'y', 't', 'h', 'o', 'n']\n",
      "['p', 'y', 't', 'h', 'o', 'n', 'c']\n",
      "['p', 'y', 't', 'h', 'o', 'n', 'c', 'l']\n",
      "['p', 'y', 't', 'h', 'o', 'n', 'c', 'l', 'a']\n"
     ]
    }
   ],
   "source": [
    "char_list = [['p', 'y', 't'],[ 'h', 'o', 'n'],[ 'c', 'l', 'a']]\n",
    "new_list = []\n",
    "for c_list in char_list:\n",
    "#     print(c_list,type(c_list))\n",
    "    for char in c_list:\n",
    "#         print(char)\n",
    "        new_list.append(char)\n",
    "        print(new_list)"
   ]
  },
  {
   "cell_type": "markdown",
   "id": "alert-engineer",
   "metadata": {},
   "source": [
    "# List Comprehension"
   ]
  },
  {
   "cell_type": "code",
   "execution_count": 112,
   "id": "approximate-portrait",
   "metadata": {},
   "outputs": [],
   "source": [
    "# Shorter syntax"
   ]
  },
  {
   "cell_type": "code",
   "execution_count": 118,
   "id": "supposed-transport",
   "metadata": {},
   "outputs": [
    {
     "name": "stdout",
     "output_type": "stream",
     "text": [
      "Square list is  [4, 9, 16, 25, 36]\n"
     ]
    }
   ],
   "source": [
    "# To find the square of numbers\n",
    "\n",
    "num_list = [2,3,4,5,6]\n",
    "square_list = []\n",
    "\n",
    "for num in num_list:\n",
    "    sq = num ** 2\n",
    "    square_list.append(sq)\n",
    "\n",
    "print('Square list is ',square_list)"
   ]
  },
  {
   "cell_type": "code",
   "execution_count": 5,
   "id": "ecological-aaron",
   "metadata": {},
   "outputs": [
    {
     "name": "stdout",
     "output_type": "stream",
     "text": [
      "Square list is  [4, 9, 16, 25, 36]\n"
     ]
    }
   ],
   "source": [
    "num_list = [2,3,4,5,6]\n",
    "\n",
    "square_list = [ num**2 for num in num_list]\n",
    "\n",
    "print('Square list is ',square_list)"
   ]
  },
  {
   "cell_type": "code",
   "execution_count": 129,
   "id": "cloudy-parent",
   "metadata": {},
   "outputs": [
    {
     "name": "stdout",
     "output_type": "stream",
     "text": [
      "Square list is  [10648, 32768, 64, 125, 216]\n"
     ]
    }
   ],
   "source": [
    "num_list = [22,32,4,5,6]\n",
    "\n",
    "cube_list = [ num**3 for num in num_list]\n",
    "\n",
    "print('Square list is ',cube_list)"
   ]
  },
  {
   "cell_type": "code",
   "execution_count": 132,
   "id": "judicial-vancouver",
   "metadata": {},
   "outputs": [
    {
     "name": "stdout",
     "output_type": "stream",
     "text": [
      "Square list is  [22, 32, 4, 5, 6]\n"
     ]
    }
   ],
   "source": [
    "num_list = [22,32,4,5,6]\n",
    "\n",
    "cube_list = [ num for num in num_list]\n",
    "\n",
    "print('Square list is ',cube_list)"
   ]
  },
  {
   "cell_type": "code",
   "execution_count": 141,
   "id": "crazy-regulation",
   "metadata": {},
   "outputs": [
    {
     "name": "stdout",
     "output_type": "stream",
     "text": [
      "Square list is  ['-d-', '-a-', '-t-', '-a-', '- -', '-s-', '-c-', '-i-', '-e-', '-n-', '-c-', '-e-']\n"
     ]
    }
   ],
   "source": [
    "string = 'data science'\n",
    "\n",
    "cube_list = ['-' + char +'-' for char in string]\n",
    "\n",
    "print('Square list is ',cube_list)"
   ]
  },
  {
   "cell_type": "code",
   "execution_count": 142,
   "id": "solid-borough",
   "metadata": {},
   "outputs": [
    {
     "data": {
      "text/plain": [
       "'-a-'"
      ]
     },
     "execution_count": 142,
     "metadata": {},
     "output_type": "execute_result"
    }
   ],
   "source": [
    "'-' + 'a' +'-' "
   ]
  },
  {
   "cell_type": "code",
   "execution_count": 149,
   "id": "conservative-currency",
   "metadata": {},
   "outputs": [
    {
     "data": {
      "text/plain": [
       "'PYTHONPYTHONPYTHONPYTHONPYTHONPYTHONPYTHONPYTHONPYTHONPYTHON  DATA'"
      ]
     },
     "execution_count": 149,
     "metadata": {},
     "output_type": "execute_result"
    }
   ],
   "source": [
    "a = 'PYTHON'\n",
    "b = \"DATA\"\n",
    "a*10 + \"  \" + b"
   ]
  },
  {
   "cell_type": "markdown",
   "id": "60e902ab",
   "metadata": {},
   "source": [
    "## Extend"
   ]
  },
  {
   "cell_type": "code",
   "execution_count": 154,
   "id": "universal-grave",
   "metadata": {},
   "outputs": [
    {
     "name": "stdout",
     "output_type": "stream",
     "text": [
      "['a', 'b', 'c', 3, 4, 5, 6]\n",
      "[3, 4, 5, 6]\n"
     ]
    }
   ],
   "source": [
    "a = ['a','b','c']\n",
    "b = [3,4,5,6]\n",
    "\n",
    "a.extend(b)\n",
    "print(a)\n",
    "print(b)"
   ]
  },
  {
   "cell_type": "code",
   "execution_count": 155,
   "id": "north-ebony",
   "metadata": {},
   "outputs": [
    {
     "name": "stdout",
     "output_type": "stream",
     "text": [
      "['a', 'b', 'c']\n",
      "[3, 4, 5, 6, 'a', 'b', 'c']\n"
     ]
    }
   ],
   "source": [
    "a = ['a','b','c']\n",
    "b = [3,4,5,6]\n",
    "\n",
    "b.extend(a)\n",
    "print(a)\n",
    "print(b)"
   ]
  },
  {
   "cell_type": "raw",
   "id": "modular-presentation",
   "metadata": {},
   "source": [
    "append(single_val)\n",
    "extend(list)"
   ]
  },
  {
   "cell_type": "code",
   "execution_count": 160,
   "id": "accurate-mediterranean",
   "metadata": {},
   "outputs": [
    {
     "name": "stdout",
     "output_type": "stream",
     "text": [
      "['a', 'b', 'c', [3, 4, 5, 6]] 4\n"
     ]
    }
   ],
   "source": [
    "a = ['a','b','c']\n",
    "b = [3,4,5,6]\n",
    "a.append(b)\n",
    "print(a,len(a))"
   ]
  },
  {
   "cell_type": "code",
   "execution_count": 165,
   "id": "jewish-iraqi",
   "metadata": {},
   "outputs": [
    {
     "name": "stdout",
     "output_type": "stream",
     "text": [
      "['a', 'b', 'c', 3, 4, 5, 6] 7\n"
     ]
    }
   ],
   "source": [
    "a = ['a','b','c']\n",
    "b = [3,4,5,6]\n",
    "\n",
    "a.extend(b)\n",
    "print(a,len(a))"
   ]
  },
  {
   "cell_type": "markdown",
   "id": "substantial-things",
   "metadata": {},
   "source": [
    "# count"
   ]
  },
  {
   "cell_type": "code",
   "execution_count": 9,
   "id": "provincial-organizer",
   "metadata": {},
   "outputs": [
    {
     "data": {
      "text/plain": [
       "2"
      ]
     },
     "execution_count": 9,
     "metadata": {},
     "output_type": "execute_result"
    }
   ],
   "source": [
    "l1 = ['p', 'y', 't', 'h', 'o', 'n', 'c', 'l', 'a','s','s']\n",
    "l1.count('s')"
   ]
  },
  {
   "cell_type": "markdown",
   "id": "valuable-spice",
   "metadata": {},
   "source": [
    "# index"
   ]
  },
  {
   "cell_type": "code",
   "execution_count": 1,
   "id": "front-george",
   "metadata": {},
   "outputs": [
    {
     "data": {
      "text/plain": [
       "1"
      ]
     },
     "execution_count": 1,
     "metadata": {},
     "output_type": "execute_result"
    }
   ],
   "source": [
    "a = [3,4,5,6,6,7,8,9]\n",
    "a.index(4)"
   ]
  },
  {
   "cell_type": "code",
   "execution_count": 173,
   "id": "answering-chambers",
   "metadata": {},
   "outputs": [
    {
     "data": {
      "text/plain": [
       "2"
      ]
     },
     "execution_count": 173,
     "metadata": {},
     "output_type": "execute_result"
    }
   ],
   "source": [
    "a.index(5)"
   ]
  },
  {
   "cell_type": "code",
   "execution_count": 175,
   "id": "mature-textbook",
   "metadata": {},
   "outputs": [
    {
     "data": {
      "text/plain": [
       "3"
      ]
     },
     "execution_count": 175,
     "metadata": {},
     "output_type": "execute_result"
    }
   ],
   "source": [
    "a.index(6)"
   ]
  },
  {
   "cell_type": "code",
   "execution_count": 185,
   "id": "sensitive-imaging",
   "metadata": {},
   "outputs": [
    {
     "name": "stdout",
     "output_type": "stream",
     "text": [
      "length of list1 7\n",
      "Char at index 0 is 4\n",
      "Char at index 1 is 5\n",
      "Char at index 2 is 6\n",
      "Char at index 3 is 7\n",
      "Char at index 4 is 8\n",
      "Char at index 5 is aaa\n",
      "Char at index 6 is bbb\n"
     ]
    }
   ],
   "source": [
    "l1 = [4,5,6,7,8,'aaa','bbb']\n",
    "print('length of list1',len(l1))   \n",
    "\n",
    "for i,val in enumerate(l1): \n",
    "    print(f\"Char at index {i} is {val}\")"
   ]
  },
  {
   "cell_type": "raw",
   "id": "arabic-digest",
   "metadata": {},
   "source": [
    "for index,value in enumerate(list_name):\n",
    "    print(index, value)"
   ]
  },
  {
   "cell_type": "code",
   "execution_count": 199,
   "id": "spatial-indie",
   "metadata": {},
   "outputs": [
    {
     "name": "stdout",
     "output_type": "stream",
     "text": [
      "4\n"
     ]
    }
   ],
   "source": [
    "string = '''Python is programming language\n",
    "and also used for machine learning and deep learning'''\n",
    "vowel_list=[]\n",
    "for char in list(string):\n",
    "    if char in list('aeiou'):\n",
    "        vowel_list.append(char)\n",
    "        \n",
    "print(vowel_list.count('o'))"
   ]
  }
 ],
 "metadata": {
  "kernelspec": {
   "display_name": "Python 3",
   "language": "python",
   "name": "python3"
  },
  "language_info": {
   "codemirror_mode": {
    "name": "ipython",
    "version": 3
   },
   "file_extension": ".py",
   "mimetype": "text/x-python",
   "name": "python",
   "nbconvert_exporter": "python",
   "pygments_lexer": "ipython3",
   "version": "3.8.8"
  }
 },
 "nbformat": 4,
 "nbformat_minor": 5
}
