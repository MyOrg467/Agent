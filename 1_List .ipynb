{
 "cells": [
  {
   "cell_type": "markdown",
   "id": "close-pharmaceutical",
   "metadata": {},
   "source": [
    "# List"
   ]
  },
  {
   "cell_type": "code",
   "execution_count": null,
   "id": "north-hypothetical",
   "metadata": {},
   "outputs": [],
   "source": [
    "It is a collection of items which are ordered, mutable and allows duplicate values\n",
    "It contains multiple datatypes\n",
    "\n",
    "Seperated by comma (,)\n",
    "enclosed by square bracket []"
   ]
  },
  {
   "cell_type": "code",
   "execution_count": 1,
   "id": "built-synthetic",
   "metadata": {},
   "outputs": [],
   "source": [
    "list1 = [2,3,5,6,78]"
   ]
  },
  {
   "cell_type": "code",
   "execution_count": 2,
   "id": "electric-negative",
   "metadata": {},
   "outputs": [
    {
     "name": "stdout",
     "output_type": "stream",
     "text": [
      "<class 'list'>\n"
     ]
    }
   ],
   "source": [
    "type(list1)\n",
    "print(type(list1))"
   ]
  },
  {
   "cell_type": "code",
   "execution_count": 3,
   "id": "known-channel",
   "metadata": {},
   "outputs": [
    {
     "data": {
      "text/plain": [
       "list"
      ]
     },
     "execution_count": 3,
     "metadata": {},
     "output_type": "execute_result"
    }
   ],
   "source": [
    "list2 = [2,3,4.5,5.6]\n",
    "type(list2)"
   ]
  },
  {
   "cell_type": "code",
   "execution_count": 4,
   "id": "marine-essex",
   "metadata": {},
   "outputs": [
    {
     "data": {
      "text/plain": [
       "[4, 5, 6, 3.14, 'a', 'b', 'python']"
      ]
     },
     "execution_count": 4,
     "metadata": {},
     "output_type": "execute_result"
    }
   ],
   "source": [
    "list3 = [4,5,6,3.14,'a','b','python'] # int , float, string\n",
    "list3"
   ]
  },
  {
   "cell_type": "code",
   "execution_count": 5,
   "id": "discrete-commission",
   "metadata": {},
   "outputs": [
    {
     "data": {
      "text/plain": [
       "[4, 5, 6, 3.14, 'a', 'b', 'python', {'a': 'bbb'}, [3, 4, 5]]"
      ]
     },
     "execution_count": 5,
     "metadata": {},
     "output_type": "execute_result"
    }
   ],
   "source": [
    "list3 = [4,5,6,3.14,'a','b','python',{'a':'bbb'},[3,4,5]] # int , float, string\n",
    "list3"
   ]
  },
  {
   "cell_type": "markdown",
   "id": "isolated-stress",
   "metadata": {},
   "source": [
    "## Length"
   ]
  },
  {
   "cell_type": "code",
   "execution_count": 25,
   "id": "honey-exhibit",
   "metadata": {},
   "outputs": [
    {
     "data": {
      "text/plain": [
       "5"
      ]
     },
     "execution_count": 25,
     "metadata": {},
     "output_type": "execute_result"
    }
   ],
   "source": [
    "len(list1)"
   ]
  },
  {
   "cell_type": "code",
   "execution_count": 26,
   "id": "center-ottawa",
   "metadata": {},
   "outputs": [
    {
     "data": {
      "text/plain": [
       "9"
      ]
     },
     "execution_count": 26,
     "metadata": {},
     "output_type": "execute_result"
    }
   ],
   "source": [
    "len(list3)"
   ]
  },
  {
   "cell_type": "markdown",
   "id": "robust-roman",
   "metadata": {},
   "source": [
    "# Access Element"
   ]
  },
  {
   "cell_type": "markdown",
   "id": "recent-survival",
   "metadata": {},
   "source": [
    "## Indexing and Slicing"
   ]
  },
  {
   "cell_type": "code",
   "execution_count": null,
   "id": "foster-plymouth",
   "metadata": {},
   "outputs": [],
   "source": [
    "Indexing starts from 0\n"
   ]
  },
  {
   "cell_type": "code",
   "execution_count": 28,
   "id": "shaped-saturday",
   "metadata": {},
   "outputs": [],
   "source": [
    "list3 = [4, 5, 6, 3.14,'a','b','python']"
   ]
  },
  {
   "cell_type": "code",
   "execution_count": 15,
   "id": "adapted-chemistry",
   "metadata": {},
   "outputs": [
    {
     "data": {
      "text/plain": [
       "4"
      ]
     },
     "execution_count": 15,
     "metadata": {},
     "output_type": "execute_result"
    }
   ],
   "source": [
    "list3[0]"
   ]
  },
  {
   "cell_type": "code",
   "execution_count": 17,
   "id": "perfect-twist",
   "metadata": {},
   "outputs": [
    {
     "data": {
      "text/plain": [
       "3.14"
      ]
     },
     "execution_count": 17,
     "metadata": {},
     "output_type": "execute_result"
    }
   ],
   "source": [
    "list3[3]"
   ]
  },
  {
   "cell_type": "code",
   "execution_count": 14,
   "id": "lightweight-australian",
   "metadata": {},
   "outputs": [
    {
     "data": {
      "text/plain": [
       "'python'"
      ]
     },
     "execution_count": 14,
     "metadata": {},
     "output_type": "execute_result"
    }
   ],
   "source": [
    "list3[-1]"
   ]
  },
  {
   "cell_type": "code",
   "execution_count": 19,
   "id": "beginning-scale",
   "metadata": {},
   "outputs": [
    {
     "data": {
      "text/plain": [
       "[6, 3.14]"
      ]
     },
     "execution_count": 19,
     "metadata": {},
     "output_type": "execute_result"
    }
   ],
   "source": [
    "list3[2:4]"
   ]
  },
  {
   "cell_type": "code",
   "execution_count": 22,
   "id": "superior-tissue",
   "metadata": {},
   "outputs": [
    {
     "data": {
      "text/plain": [
       "[6, 3.14, 'a', 'b', 'python']"
      ]
     },
     "execution_count": 22,
     "metadata": {},
     "output_type": "execute_result"
    }
   ],
   "source": [
    "list3[2:]"
   ]
  },
  {
   "cell_type": "code",
   "execution_count": 31,
   "id": "comfortable-ready",
   "metadata": {},
   "outputs": [
    {
     "data": {
      "text/plain": [
       "[6, 3.14, 'a', 'b', 'python']"
      ]
     },
     "execution_count": 31,
     "metadata": {},
     "output_type": "execute_result"
    }
   ],
   "source": [
    "list3[2:len(list3)]"
   ]
  },
  {
   "cell_type": "code",
   "execution_count": 33,
   "id": "latest-maintenance",
   "metadata": {},
   "outputs": [],
   "source": [
    "list3 = [4, 5, 6, 3.14,'a','b','python']"
   ]
  },
  {
   "cell_type": "code",
   "execution_count": 38,
   "id": "vietnamese-consolidation",
   "metadata": {},
   "outputs": [
    {
     "data": {
      "text/plain": [
       "[6, 3.14, 'a']"
      ]
     },
     "execution_count": 38,
     "metadata": {},
     "output_type": "execute_result"
    }
   ],
   "source": [
    "list3[-5: -2] # -5, -4, -3"
   ]
  },
  {
   "cell_type": "code",
   "execution_count": 39,
   "id": "bored-float",
   "metadata": {},
   "outputs": [
    {
     "data": {
      "text/plain": [
       "[]"
      ]
     },
     "execution_count": 39,
     "metadata": {},
     "output_type": "execute_result"
    }
   ],
   "source": [
    "list3[-2: -5]"
   ]
  },
  {
   "cell_type": "code",
   "execution_count": 37,
   "id": "numerous-lesbian",
   "metadata": {},
   "outputs": [
    {
     "data": {
      "text/plain": [
       "['a', 'b', 'python']"
      ]
     },
     "execution_count": 37,
     "metadata": {},
     "output_type": "execute_result"
    }
   ],
   "source": [
    "# Last 3 items\n",
    "list3[-3:]"
   ]
  },
  {
   "cell_type": "code",
   "execution_count": 40,
   "id": "ranking-roommate",
   "metadata": {},
   "outputs": [],
   "source": [
    "string = 'python'"
   ]
  },
  {
   "cell_type": "code",
   "execution_count": 45,
   "id": "flush-criterion",
   "metadata": {},
   "outputs": [
    {
     "data": {
      "text/plain": [
       "'t'"
      ]
     },
     "execution_count": 45,
     "metadata": {},
     "output_type": "execute_result"
    }
   ],
   "source": [
    "string[2]"
   ]
  },
  {
   "cell_type": "markdown",
   "id": "attached-munich",
   "metadata": {},
   "source": [
    "# create list"
   ]
  },
  {
   "cell_type": "code",
   "execution_count": 1,
   "id": "southwest-burning",
   "metadata": {},
   "outputs": [
    {
     "data": {
      "text/plain": [
       "list"
      ]
     },
     "execution_count": 1,
     "metadata": {},
     "output_type": "execute_result"
    }
   ],
   "source": [
    "l1 = []  # null list\n",
    "type(l1)"
   ]
  },
  {
   "cell_type": "markdown",
   "id": "aggressive-archives",
   "metadata": {},
   "source": [
    "# Add items in list"
   ]
  },
  {
   "cell_type": "markdown",
   "id": "fiscal-contamination",
   "metadata": {},
   "source": [
    "### 1. append()"
   ]
  },
  {
   "cell_type": "code",
   "execution_count": 4,
   "id": "frank-shareware",
   "metadata": {},
   "outputs": [],
   "source": [
    "l1.append(2)\n"
   ]
  },
  {
   "cell_type": "code",
   "execution_count": 5,
   "id": "present-italic",
   "metadata": {},
   "outputs": [
    {
     "data": {
      "text/plain": [
       "[2, 2]"
      ]
     },
     "execution_count": 5,
     "metadata": {},
     "output_type": "execute_result"
    }
   ],
   "source": [
    "l1"
   ]
  },
  {
   "cell_type": "code",
   "execution_count": 7,
   "id": "referenced-saskatchewan",
   "metadata": {},
   "outputs": [],
   "source": [
    "city_name = ['Mumbai','Pune']\n",
    "city_name.append('Delhi')\n",
    "city_name.append('Chennai')\n",
    "city_name.append('Hyderabad')"
   ]
  },
  {
   "cell_type": "code",
   "execution_count": 8,
   "id": "instrumental-raising",
   "metadata": {},
   "outputs": [],
   "source": [
    "city_name.append(23)"
   ]
  },
  {
   "cell_type": "code",
   "execution_count": 90,
   "id": "honey-utility",
   "metadata": {},
   "outputs": [
    {
     "data": {
      "text/plain": [
       "['Mumbai', 'Pune', 'Delhi', 'Chennai', 'Hyderabad', 23]"
      ]
     },
     "execution_count": 90,
     "metadata": {},
     "output_type": "execute_result"
    }
   ],
   "source": [
    "city_name"
   ]
  },
  {
   "cell_type": "code",
   "execution_count": 91,
   "id": "shaped-greensboro",
   "metadata": {},
   "outputs": [
    {
     "data": {
      "text/plain": [
       "['Mumbai',\n",
       " 'Pune',\n",
       " 'Delhi',\n",
       " 'Chennai',\n",
       " 'Hyderabad',\n",
       " 23,\n",
       " 'Delhi',\n",
       " 'Chennai',\n",
       " 'Hyderabad']"
      ]
     },
     "execution_count": 91,
     "metadata": {},
     "output_type": "execute_result"
    }
   ],
   "source": [
    "city_name.append('Delhi')\n",
    "city_name.append('Chennai')\n",
    "city_name.append('Hyderabad')\n",
    "city_name"
   ]
  },
  {
   "cell_type": "markdown",
   "id": "golden-mexican",
   "metadata": {},
   "source": [
    "### 2. Extend"
   ]
  },
  {
   "cell_type": "raw",
   "id": "dynamic-supervisor",
   "metadata": {},
   "source": [
    "Merge two list "
   ]
  },
  {
   "cell_type": "code",
   "execution_count": 2,
   "id": "bizarre-injection",
   "metadata": {},
   "outputs": [],
   "source": [
    "l1 = [3,4,5,6,7]\n",
    "l2 = [11,22,33,44,55,66,77]"
   ]
  },
  {
   "cell_type": "code",
   "execution_count": 4,
   "id": "independent-export",
   "metadata": {},
   "outputs": [
    {
     "name": "stdout",
     "output_type": "stream",
     "text": [
      "[3, 4, 5, 6, 7, 11, 22, 33, 44, 55, 66, 77, 11, 22, 33, 44, 55, 66, 77]\n"
     ]
    }
   ],
   "source": [
    "for item in l2:\n",
    " #   print('item is ',item)\n",
    "    l1.append(item)\n",
    "`print(l1)"
   ]
  },
  {
   "cell_type": "code",
   "execution_count": 97,
   "id": "african-michigan",
   "metadata": {},
   "outputs": [
    {
     "data": {
      "text/plain": [
       "[3, 4, 5, 6, 7, 1, 2, 3, 4, 5, 6, 7]"
      ]
     },
     "execution_count": 97,
     "metadata": {},
     "output_type": "execute_result"
    }
   ],
   "source": [
    "l1"
   ]
  },
  {
   "cell_type": "code",
   "execution_count": null,
   "id": "processed-million",
   "metadata": {},
   "outputs": [],
   "source": [
    "l1.extend(l2)"
   ]
  },
  {
   "cell_type": "code",
   "execution_count": 12,
   "id": "collect-coordination",
   "metadata": {},
   "outputs": [
    {
     "name": "stdout",
     "output_type": "stream",
     "text": [
      "char is  p\n",
      "char is  y\n",
      "char is  t\n",
      "char is  h\n",
      "char is  o\n",
      "char is  n\n",
      "char is   \n",
      "char is  c\n",
      "char is  l\n",
      "char is  a\n",
      "char is  s\n",
      "char is  s\n"
     ]
    }
   ],
   "source": [
    "string = 'python class'\n",
    "for char in string:\n",
    "    print('char is ',char)"
   ]
  },
  {
   "cell_type": "raw",
   "id": "dense-bracket",
   "metadata": {},
   "source": [
    "for var_name in sequence:\n",
    "    statement1\n",
    "    statement2"
   ]
  },
  {
   "cell_type": "raw",
   "id": "simple-adjustment",
   "metadata": {},
   "source": [
    "var_name >> item,char,i,j,value,val\n",
    "sequences >> str, tuple, list, dict,set\n",
    "statements >> if statement, print, variables\n",
    "\n",
    "Iterate from index 0 to length-1\n",
    "\n",
    "Works like and iterator"
   ]
  },
  {
   "cell_type": "code",
   "execution_count": 120,
   "id": "dutch-store",
   "metadata": {},
   "outputs": [
    {
     "name": "stdout",
     "output_type": "stream",
     "text": [
      "length of string 6\n",
      "Char at index 0 is p\n",
      "Char at index 1 is y\n",
      "Char at index 2 is t\n",
      "Char at index 3 is h\n",
      "Char at index 4 is o\n",
      "Char at index 5 is n\n"
     ]
    }
   ],
   "source": [
    "string = 'python'\n",
    "print('length of string',len(string))  # 12\n",
    "\n",
    "count = 0\n",
    "for char in string:\n",
    "    print(f\"Char at index {count} is {char}\")\n",
    "    count = count + 1"
   ]
  },
  {
   "cell_type": "code",
   "execution_count": 121,
   "id": "suffering-student",
   "metadata": {},
   "outputs": [
    {
     "name": "stdout",
     "output_type": "stream",
     "text": [
      "length of string 6\n",
      "Char at index 0 is p\n",
      "Char at index 1 is y\n",
      "Char at index 2 is t\n",
      "Char at index 3 is h\n",
      "Char at index 4 is o\n",
      "Char at index 5 is n\n"
     ]
    }
   ],
   "source": [
    "string = 'python'\n",
    "print('length of string',len(string))  # 12\n",
    "\n",
    "for index,char in enumerate(string):\n",
    "    print(f\"Char at index {index} is {char}\")"
   ]
  },
  {
   "cell_type": "code",
   "execution_count": 125,
   "id": "conditional-jesus",
   "metadata": {},
   "outputs": [
    {
     "name": "stdout",
     "output_type": "stream",
     "text": [
      "length of list1 7\n",
      "Char at index 0 is 4\n",
      "Char at index 1 is 5\n",
      "Char at index 2 is 6\n",
      "Char at index 3 is 7\n",
      "Char at index 4 is 8\n",
      "Char at index 5 is aaa\n",
      "Char at index 6 is bbb\n"
     ]
    }
   ],
   "source": [
    "l1 = [4,5,6,7,8,'aaa','bbb']\n",
    "print('length of list1',len(l1))  # \n",
    "\n",
    "count = 0\n",
    "\n",
    "for index,char in enumerate(l1):\n",
    "    print(f\"Char at index {index} is {char}\")"
   ]
  },
  {
   "cell_type": "code",
   "execution_count": 208,
   "id": "maritime-pointer",
   "metadata": {},
   "outputs": [
    {
     "name": "stdout",
     "output_type": "stream",
     "text": [
      "length of list1 7\n",
      "4 5 6 7 8 aaa bbb "
     ]
    }
   ],
   "source": [
    "l1 = [4,5,6,7,8,'aaa','bbb']\n",
    "print('length of list1',len(l1))  # \n",
    "\n",
    "count = 0\n",
    "\n",
    "for i,val in enumerate(l1):\n",
    "    print(val, end = ' ')\n",
    "#     print(f\"Char at index {i} is {val}\")"
   ]
  },
  {
   "cell_type": "code",
   "execution_count": 132,
   "id": "talented-cookbook",
   "metadata": {},
   "outputs": [
    {
     "data": {
      "text/plain": [
       "[4, 5, 6, 7, 8, 'aaa', 'bbb', 11, 22, 33, 44, 55, 66, 77]"
      ]
     },
     "execution_count": 132,
     "metadata": {},
     "output_type": "execute_result"
    }
   ],
   "source": [
    "for item in l2:\n",
    "    l1.append(item)\n",
    "l1"
   ]
  },
  {
   "cell_type": "code",
   "execution_count": 133,
   "id": "shaped-medicare",
   "metadata": {},
   "outputs": [],
   "source": [
    "l1 = [3,4,5,6]\n",
    "l2 = ['a','b','c']"
   ]
  },
  {
   "cell_type": "code",
   "execution_count": 136,
   "id": "equal-monroe",
   "metadata": {},
   "outputs": [
    {
     "data": {
      "text/plain": [
       "[3, 4, 5, 6, 'a', 'b', 'c', 'a', 'b', 'c', 'a', 'b', 'c']"
      ]
     },
     "execution_count": 136,
     "metadata": {},
     "output_type": "execute_result"
    }
   ],
   "source": [
    "l1.extend(l2)\n",
    "l1"
   ]
  },
  {
   "cell_type": "code",
   "execution_count": 138,
   "id": "atlantic-impact",
   "metadata": {},
   "outputs": [
    {
     "data": {
      "text/plain": [
       "['a', 'b', 'c', 3, 4, 5, 6]"
      ]
     },
     "execution_count": 138,
     "metadata": {},
     "output_type": "execute_result"
    }
   ],
   "source": [
    "l1 = [3,4,5,6]\n",
    "l2 = ['a','b','c']\n",
    "l2.extend(l1)\n",
    "l2"
   ]
  },
  {
   "cell_type": "code",
   "execution_count": 143,
   "id": "external-reward",
   "metadata": {},
   "outputs": [
    {
     "data": {
      "text/plain": [
       "['a', 'b', 'c']"
      ]
     },
     "execution_count": 143,
     "metadata": {},
     "output_type": "execute_result"
    }
   ],
   "source": [
    "l1 = [3,4,5,6]\n",
    "l2 = ['a','b','c']\n",
    "l1.extend(l2)\n",
    "l2"
   ]
  },
  {
   "cell_type": "code",
   "execution_count": 145,
   "id": "metropolitan-special",
   "metadata": {},
   "outputs": [
    {
     "data": {
      "text/plain": [
       "[3, 4, 5, 6, 'a', 'b', 'c']"
      ]
     },
     "execution_count": 145,
     "metadata": {},
     "output_type": "execute_result"
    }
   ],
   "source": [
    "l1 = [3,4,5,6]\n",
    "l2 = ['a','b','c']\n",
    "l1 + l2"
   ]
  },
  {
   "cell_type": "code",
   "execution_count": 147,
   "id": "surprising-color",
   "metadata": {},
   "outputs": [
    {
     "data": {
      "text/plain": [
       "['a', 'b', 'c', 3, 4, 5, 6]"
      ]
     },
     "execution_count": 147,
     "metadata": {},
     "output_type": "execute_result"
    }
   ],
   "source": [
    "l1 = [3,4,5,6]\n",
    "l2 = ['a','b','c']\n",
    "l2 + l1"
   ]
  },
  {
   "cell_type": "markdown",
   "id": "german-federation",
   "metadata": {},
   "source": [
    "### Add first 10 numbers in list"
   ]
  },
  {
   "cell_type": "raw",
   "id": "electronic-characteristic",
   "metadata": {},
   "source": [
    "range(start_index, end_index, step)"
   ]
  },
  {
   "cell_type": "code",
   "execution_count": 149,
   "id": "alike-service",
   "metadata": {},
   "outputs": [
    {
     "data": {
      "text/plain": [
       "range(1, 5)"
      ]
     },
     "execution_count": 149,
     "metadata": {},
     "output_type": "execute_result"
    }
   ],
   "source": [
    "range(1,5)"
   ]
  },
  {
   "cell_type": "code",
   "execution_count": 152,
   "id": "third-paraguay",
   "metadata": {},
   "outputs": [
    {
     "name": "stdout",
     "output_type": "stream",
     "text": [
      "10\n",
      "11\n",
      "12\n",
      "13\n",
      "14\n"
     ]
    }
   ],
   "source": [
    "for num in range(10,15):\n",
    "    print(num)"
   ]
  },
  {
   "cell_type": "code",
   "execution_count": 18,
   "id": "enabling-childhood",
   "metadata": {},
   "outputs": [
    {
     "ename": "IndentationError",
     "evalue": "expected an indented block (<ipython-input-18-042729ba5a0a>, line 4)",
     "output_type": "error",
     "traceback": [
      "\u001b[1;36m  File \u001b[1;32m\"<ipython-input-18-042729ba5a0a>\"\u001b[1;36m, line \u001b[1;32m4\u001b[0m\n\u001b[1;33m    num_list[]\u001b[0m\n\u001b[1;37m           ^\u001b[0m\n\u001b[1;31mIndentationError\u001b[0m\u001b[1;31m:\u001b[0m expected an indented block\n"
     ]
    }
   ],
   "source": [
    "num_list = []\n",
    "for i in range(1,11):\n",
    "    num_list.append(i)\n",
    "num_list"
   ]
  },
  {
   "cell_type": "code",
   "execution_count": 16,
   "id": "expired-filter",
   "metadata": {},
   "outputs": [
    {
     "data": {
      "text/plain": [
       "[0, 2, 4, 6, 8, 10]"
      ]
     },
     "execution_count": 16,
     "metadata": {},
     "output_type": "execute_result"
    }
   ],
   "source": [
    "even_num_list = []\n",
    "\n",
    "for i in range(0,11,2):\n",
    "    even_num_list.append(i)\n",
    "    \n",
    "even_num_list"
   ]
  },
  {
   "cell_type": "code",
   "execution_count": null,
   "id": "fiscal-career",
   "metadata": {},
   "outputs": [],
   "source": [
    "# odd numbers between 10 to 50 \n",
    "# Even numbers between 10 to 50"
   ]
  },
  {
   "cell_type": "code",
   "execution_count": 14,
   "id": "surprising-ranch",
   "metadata": {},
   "outputs": [
    {
     "name": "stdout",
     "output_type": "stream",
     "text": [
      "Even numbers available in the list:  [10, 12, 14, 16, 18, 20, 22, 24, 26, 28, 30, 32, 34, 36, 38, 40, 42, 44, 46, 48, 50]\n",
      "Odd numbers available in the list:  [11, 13, 15, 17, 19, 21, 23, 25, 27, 29, 31, 33, 35, 37, 39, 41, 43, 45, 47, 49]\n"
     ]
    }
   ],
   "source": [
    "# initialize null list\n",
    "even_count = []\n",
    "odd_count = []\n",
    "\n",
    "for num in range(10,51):\n",
    "#     print('Number is ',num) # 11\n",
    "    if num % 2 == 0: # False\n",
    "        even_count.append(num)\n",
    "#         print('Even Num list ',even_count)\n",
    "   \n",
    "    else: # Execute when if >> False\n",
    "        odd_count.append(num)\n",
    "#         print('Odd Num list ',odd_count)\n",
    "        \n",
    "print(\"Even numbers available in the list: \", even_count)\n",
    "print(\"Odd numbers available in the list: \", odd_count)"
   ]
  },
  {
   "cell_type": "code",
   "execution_count": 231,
   "id": "molecular-grammar",
   "metadata": {},
   "outputs": [
    {
     "name": "stdout",
     "output_type": "stream",
     "text": [
      "[10, 11, 12, 13, 14, 15, 16, 17, 18, 19, 20, 21, 22, 23, 24, 25, 26, 27, 28, 29, 30, 31, 32, 33, 34, 35, 36, 37, 38, 39, 40, 41, 42, 43, 44, 45, 46, 47, 48, 49, 50]\n"
     ]
    }
   ],
   "source": [
    "# initialize null list\n",
    "list2 = []\n",
    "\n",
    "for num in range(10,51):\n",
    "    list2.append(num)\n",
    "print(list2)"
   ]
  },
  {
   "cell_type": "code",
   "execution_count": null,
   "id": "vulnerable-kitty",
   "metadata": {},
   "outputs": [],
   "source": [
    "numbers = [3,4,5,2,4,5,5,6,6,6,4,2,2]"
   ]
  },
  {
   "cell_type": "markdown",
   "id": "suffering-dallas",
   "metadata": {},
   "source": [
    "# Change items of list"
   ]
  },
  {
   "cell_type": "code",
   "execution_count": 166,
   "id": "dominican-corps",
   "metadata": {},
   "outputs": [
    {
     "data": {
      "text/plain": [
       "12"
      ]
     },
     "execution_count": 166,
     "metadata": {},
     "output_type": "execute_result"
    }
   ],
   "source": [
    "even_num = [10, 12, 14, 16, 18, 20, 22, 24]\n",
    "even_num[1]"
   ]
  },
  {
   "cell_type": "code",
   "execution_count": 168,
   "id": "returning-helping",
   "metadata": {},
   "outputs": [],
   "source": [
    "even_num[1] = 1000"
   ]
  },
  {
   "cell_type": "code",
   "execution_count": 171,
   "id": "endless-carol",
   "metadata": {},
   "outputs": [
    {
     "data": {
      "text/plain": [
       "[10, 1000, 14, 16, 2000, 20, 22, 24]"
      ]
     },
     "execution_count": 171,
     "metadata": {},
     "output_type": "execute_result"
    }
   ],
   "source": [
    "even_num[4] = 2000 # 18 will replaced by 200\n",
    "even_num"
   ]
  },
  {
   "cell_type": "markdown",
   "id": "collective-continent",
   "metadata": {},
   "source": [
    "# insert item in list"
   ]
  },
  {
   "cell_type": "raw",
   "id": "moral-washer",
   "metadata": {},
   "source": [
    "# insert new val without replaceing existing val"
   ]
  },
  {
   "cell_type": "code",
   "execution_count": 189,
   "id": "mobile-gauge",
   "metadata": {},
   "outputs": [
    {
     "data": {
      "text/plain": [
       "['Mumbai', 'Pune', 'Bangalore', 'Delhi', 'Chennai', 'Hyderabad']"
      ]
     },
     "execution_count": 189,
     "metadata": {},
     "output_type": "execute_result"
    }
   ],
   "source": [
    "city_name = ['Mumbai', 'Pune', 'Delhi', 'Chennai', 'Hyderabad']\n",
    "city_name.insert(2,'Bangalore')\n",
    "city_name"
   ]
  },
  {
   "cell_type": "code",
   "execution_count": 190,
   "id": "contemporary-convergence",
   "metadata": {},
   "outputs": [
    {
     "data": {
      "text/plain": [
       "['Mumbai', 'Pune', 234.56, 'Delhi', 'Chennai', 'Hyderabad']"
      ]
     },
     "execution_count": 190,
     "metadata": {},
     "output_type": "execute_result"
    }
   ],
   "source": [
    "city_name = ['Mumbai', 'Pune', 'Delhi', 'Chennai', 'Hyderabad']\n",
    "city_name.insert(2,234.56)\n",
    "city_name"
   ]
  },
  {
   "cell_type": "markdown",
   "id": "hispanic-addiction",
   "metadata": {},
   "source": [
    "# Sort List"
   ]
  },
  {
   "cell_type": "code",
   "execution_count": 212,
   "id": "silent-thesis",
   "metadata": {},
   "outputs": [
    {
     "name": "stdout",
     "output_type": "stream",
     "text": [
      "['Chennai', 'Delhi', 'Hyderabad', 'Mumbai', 'Pune', 'chennai', 'mumbai', 'pune']\n"
     ]
    }
   ],
   "source": [
    "city_name = ['Mumbai', 'mumbai','Pune', 'pune','Delhi', 'Chennai','chennai', 'Hyderabad']\n",
    "city_name.sort()\n",
    "print(city_name)"
   ]
  },
  {
   "cell_type": "code",
   "execution_count": 195,
   "id": "respective-multimedia",
   "metadata": {},
   "outputs": [
    {
     "data": {
      "text/plain": [
       "'Hyderabad'"
      ]
     },
     "execution_count": 195,
     "metadata": {},
     "output_type": "execute_result"
    }
   ],
   "source": [
    "city_name[2]"
   ]
  },
  {
   "cell_type": "code",
   "execution_count": 202,
   "id": "drawn-draft",
   "metadata": {},
   "outputs": [
    {
     "data": {
      "text/plain": [
       "[1, 3, 3.2, 4, 4.5, 5, 6, 7, 8, 8, 9]"
      ]
     },
     "execution_count": 202,
     "metadata": {},
     "output_type": "execute_result"
    }
   ],
   "source": [
    "num_list = [7,5,4,6,8,3,4.5,3.2,1,8,9]\n",
    "num_list.sort()\n",
    "num_list"
   ]
  },
  {
   "cell_type": "markdown",
   "id": "possible-settlement",
   "metadata": {},
   "source": [
    "#### sort list by descending order"
   ]
  },
  {
   "cell_type": "code",
   "execution_count": 213,
   "id": "emotional-publication",
   "metadata": {},
   "outputs": [
    {
     "data": {
      "text/plain": [
       "['Pune', 'Mumbai', 'Hyderabad', 'Delhi', 'Chennai']"
      ]
     },
     "execution_count": 213,
     "metadata": {},
     "output_type": "execute_result"
    }
   ],
   "source": [
    "city_name = ['Mumbai', 'Pune', 'Delhi', 'Chennai', 'Hyderabad']\n",
    "city_name.sort(reverse=True)\n",
    "city_name"
   ]
  },
  {
   "cell_type": "code",
   "execution_count": 215,
   "id": "disturbed-thread",
   "metadata": {},
   "outputs": [
    {
     "name": "stdout",
     "output_type": "stream",
     "text": [
      "['pune', 'mumbai', 'chennai', 'Pune', 'Mumbai', 'Hyderabad', 'Delhi', 'Chennai']\n"
     ]
    }
   ],
   "source": [
    "city_name = ['Mumbai', 'mumbai','Pune', 'pune','Delhi', 'Chennai','chennai', 'Hyderabad']\n",
    "city_name.sort(reverse=True)\n",
    "print(city_name)"
   ]
  },
  {
   "cell_type": "code",
   "execution_count": 206,
   "id": "disabled-journalism",
   "metadata": {},
   "outputs": [
    {
     "data": {
      "text/plain": [
       "[9, 8, 8, 7, 6, 5, 4.5, 4, 3.2, 3, 1]"
      ]
     },
     "execution_count": 206,
     "metadata": {},
     "output_type": "execute_result"
    }
   ],
   "source": [
    "num_list = [7,5,4,6,8,3,4.5,3.2,1,8,9]\n",
    "num_list.sort(reverse=True)\n",
    "num_list"
   ]
  },
  {
   "cell_type": "code",
   "execution_count": 221,
   "id": "flush-driver",
   "metadata": {},
   "outputs": [
    {
     "name": "stdout",
     "output_type": "stream",
     "text": [
      "Original list is  ['Chennai', 'Delhi', 'Hyderabad', 'Mumbai', 'Pune']\n",
      "Sorted list is  ['Chennai', 'Delhi', 'Hyderabad', 'Mumbai', 'Pune']\n"
     ]
    }
   ],
   "source": [
    "city_name = ['Mumbai', 'Pune', 'Delhi', 'Chennai', 'Hyderabad']\n",
    "city_name = sorted(city_name)\n",
    "\n",
    "print('Original list is ',city_name)\n",
    "print('Sorted list is ',city_name_sorted)"
   ]
  },
  {
   "cell_type": "code",
   "execution_count": 222,
   "id": "baking-computer",
   "metadata": {},
   "outputs": [
    {
     "data": {
      "text/plain": [
       "list"
      ]
     },
     "execution_count": 222,
     "metadata": {},
     "output_type": "execute_result"
    }
   ],
   "source": [
    "num_list = [7,5,4,6,6,8,3,4.5,3.2,1,8,9,6]\n",
    "type(num_list)"
   ]
  },
  {
   "cell_type": "code",
   "execution_count": 232,
   "id": "northern-courage",
   "metadata": {},
   "outputs": [
    {
     "data": {
      "text/plain": [
       "[1, 3, 4, 5, 6, 7, 8, 4.5, 3.2, 9]"
      ]
     },
     "execution_count": 232,
     "metadata": {},
     "output_type": "execute_result"
    }
   ],
   "source": [
    "num_list = [7,5,4,6,6,8,3,4.5,3.2,1,8,9,6]\n",
    "list(set(num_list))"
   ]
  },
  {
   "cell_type": "code",
   "execution_count": 235,
   "id": "informed-indonesian",
   "metadata": {},
   "outputs": [
    {
     "data": {
      "text/plain": [
       "['p', 'y', 't', 'h', 'o', 'n', ' ', 'c', 'l', 'a', 's', 's']"
      ]
     },
     "execution_count": 235,
     "metadata": {},
     "output_type": "execute_result"
    }
   ],
   "source": [
    "string = 'python class'\n",
    "list(string)"
   ]
  },
  {
   "cell_type": "code",
   "execution_count": 236,
   "id": "multiple-vinyl",
   "metadata": {},
   "outputs": [],
   "source": [
    "string = 'python'\n",
    "out_str = 'p-y-t-h-o-n'"
   ]
  },
  {
   "cell_type": "code",
   "execution_count": 238,
   "id": "approved-third",
   "metadata": {},
   "outputs": [
    {
     "data": {
      "text/plain": [
       "['p', 'y', 't', 'h', 'o', 'n']"
      ]
     },
     "execution_count": 238,
     "metadata": {},
     "output_type": "execute_result"
    }
   ],
   "source": [
    "str_list= list(string)\n",
    "str_list"
   ]
  },
  {
   "cell_type": "code",
   "execution_count": 239,
   "id": "isolated-momentum",
   "metadata": {},
   "outputs": [
    {
     "data": {
      "text/plain": [
       "'p-y-t-h-o-n'"
      ]
     },
     "execution_count": 239,
     "metadata": {},
     "output_type": "execute_result"
    }
   ],
   "source": [
    "'-'.join(str_list)"
   ]
  }
 ],
 "metadata": {
  "kernelspec": {
   "display_name": "Python 3",
   "language": "python",
   "name": "python3"
  },
  "language_info": {
   "codemirror_mode": {
    "name": "ipython",
    "version": 3
   },
   "file_extension": ".py",
   "mimetype": "text/x-python",
   "name": "python",
   "nbconvert_exporter": "python",
   "pygments_lexer": "ipython3",
   "version": "3.8.8"
  }
 },
 "nbformat": 4,
 "nbformat_minor": 5
}
